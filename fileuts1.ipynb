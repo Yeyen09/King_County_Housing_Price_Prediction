{
  "cells": [
    {
      "cell_type": "markdown",
      "metadata": {
        "id": "view-in-github",
        "colab_type": "text"
      },
      "source": [
        "<a href=\"https://colab.research.google.com/github/Yeyen09/King_County_Housing_Price_Prediction/blob/main/fileuts1.ipynb\" target=\"_parent\"><img src=\"https://colab.research.google.com/assets/colab-badge.svg\" alt=\"Open In Colab\"/></a>"
      ]
    },
    {
      "cell_type": "code",
      "execution_count": null,
      "metadata": {
        "id": "BMbfcCD0Rrlv"
      },
      "outputs": [],
      "source": [
        "import pandas as pd\n",
        "pd.set_option('display.max_columns', 300)"
      ]
    },
    {
      "cell_type": "markdown",
      "source": [
        "\n",
        "\n",
        "---\n",
        "\n",
        "\n",
        "\n",
        "---\n",
        "\n"
      ],
      "metadata": {
        "id": "OZE-skWrU5_a"
      }
    },
    {
      "cell_type": "markdown",
      "source": [],
      "metadata": {
        "id": "RmBnXqMfSpNx"
      }
    },
    {
      "cell_type": "markdown",
      "metadata": {
        "id": "iFOv5-nRRrlw"
      },
      "source": [
        "## Step 1: Read in hold out data, scalers, and best model"
      ]
    },
    {
      "cell_type": "markdown",
      "source": [
        "Membaca data holdout yang akan digunakan untuk prediksi.\n",
        "\n",
        "\n",
        "pengumpulan data"
      ],
      "metadata": {
        "id": "_-9gq464VVZC"
      }
    },
    {
      "cell_type": "code",
      "execution_count": null,
      "metadata": {
        "id": "f4fPbST4Rrlx"
      },
      "outputs": [],
      "source": [
        "# holdout = pd.read_csv('resources/movies_holdout_features.csv', index_col=0)"
      ]
    },
    {
      "cell_type": "code",
      "execution_count": null,
      "metadata": {
        "id": "_7hQjGrxRrlx",
        "cellView": "code"
      },
      "outputs": [],
      "source": [
        "# @title Default title text\n",
        "# final_scaler = read_pickle(filename)\n",
        "# final_model = read_pickle(filename)"
      ]
    },
    {
      "cell_type": "markdown",
      "source": [],
      "metadata": {
        "id": "H5BWTo_tXqQa"
      }
    },
    {
      "cell_type": "markdown",
      "source": [
        "Memuat scaler dan model terbaik yang telah disimpan sebelumnya.\n",
        "\n",
        "\n",
        "Transformasi Data dan Feature Engineering"
      ],
      "metadata": {
        "id": "9jgfWCWaVfka"
      }
    },
    {
      "cell_type": "code",
      "source": [],
      "metadata": {
        "id": "QoNLL7LlSXeJ"
      },
      "execution_count": null,
      "outputs": []
    },
    {
      "cell_type": "markdown",
      "metadata": {
        "id": "1zG7RjpFRrlx"
      },
      "source": [
        "## Step 2: Feature Engineering for holdout set"
      ]
    },
    {
      "cell_type": "markdown",
      "metadata": {
        "id": "KgfINg-yRrlx"
      },
      "source": [
        "Remember we have to perform the same transformations on our holdout data (feature engineering, extreme values, and scaling) that we performed on the original data."
      ]
    },
    {
      "cell_type": "code",
      "execution_count": null,
      "metadata": {
        "id": "n2t5CUjXRrlx"
      },
      "outputs": [],
      "source": [
        "# transformed_holdout = final_scaler(holdout)"
      ]
    },
    {
      "cell_type": "markdown",
      "source": [
        "Melakukan transformasi yang sama pada data holdout seperti yang dilakukan pada data asli. Ini termasuk engineering fitur, penanganan nilai ekstrem, dan scaling.\n",
        "\n",
        "Transformasi Data dan Feature Engineering"
      ],
      "metadata": {
        "id": "NCL3TuJzVo1Y"
      }
    },
    {
      "cell_type": "markdown",
      "metadata": {
        "id": "Cxyp5vr9Rrlx"
      },
      "source": [
        "## Step 3: Predict the holdout set"
      ]
    },
    {
      "cell_type": "code",
      "execution_count": 10,
      "metadata": {
        "id": "jdlw5jqiRrlx"
      },
      "outputs": [],
      "source": [
        "# final_answers = final_model.predict(transformed_holdout)"
      ]
    },
    {
      "cell_type": "markdown",
      "source": [
        "Menerapkan scaler yang telah dilatih pada data holdout.\n",
        "\n",
        "\n",
        "\n",
        "Prediksi"
      ],
      "metadata": {
        "id": "SLccqovAVt9k"
      }
    },
    {
      "cell_type": "markdown",
      "source": [],
      "metadata": {
        "id": "krfMC20PX8TL"
      }
    },
    {
      "cell_type": "markdown",
      "metadata": {
        "id": "16RQOJT0Rrlx"
      },
      "source": [
        "## Step 4: Export your predictions"
      ]
    },
    {
      "cell_type": "code",
      "execution_count": 9,
      "metadata": {
        "id": "8UtYqNfsRrlx"
      },
      "outputs": [],
      "source": [
        "# final_answer.to_csv('housing_preds_your_name.csv')"
      ]
    },
    {
      "cell_type": "markdown",
      "source": [
        "Menyimpan hasil prediksi ke dalam file CSV."
      ],
      "metadata": {
        "id": "Q9EKvyq3VzzP"
      }
    }
  ],
  "metadata": {
    "kernelspec": {
      "display_name": "Python 3",
      "language": "python",
      "name": "python3"
    },
    "language_info": {
      "codemirror_mode": {
        "name": "ipython",
        "version": 3
      },
      "file_extension": ".py",
      "mimetype": "text/x-python",
      "name": "python",
      "nbconvert_exporter": "python",
      "pygments_lexer": "ipython3",
      "version": "3.7.1"
    },
    "colab": {
      "provenance": [],
      "include_colab_link": true
    }
  },
  "nbformat": 4,
  "nbformat_minor": 0
}